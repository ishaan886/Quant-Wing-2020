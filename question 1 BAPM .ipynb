{
 "cells": [
  {
   "cell_type": "code",
   "execution_count": 1,
   "metadata": {},
   "outputs": [],
   "source": [
    "import numpy as np"
   ]
  },
  {
   "cell_type": "code",
   "execution_count": 9,
   "metadata": {},
   "outputs": [],
   "source": [
    "# Binomial Asset Pricing Model\n",
    "  # Where\n",
    "#sigma= Volatility _\n",
    "#S0=Initial Asset Price\n",
    "#r=Risk Free Rate\n",
    "#T=Time\n",
    "#N=NoSteps \n",
    "#K=Option Strike Price\n",
    "\n",
    "    "
   ]
  },
  {
   "cell_type": "code",
   "execution_count": 34,
   "metadata": {},
   "outputs": [],
   "source": [
    "\n",
    "def bin(N, S0, r,T, sigma ,k,put=True):\n",
    "    dt=T/N              \n",
    "    x=0.5 * (np.exp(-r *dt) + np.exp((r + sigma * sigma)* dt))\n",
    "    u= x +np.sqrt(x*x-1)                                           #growth factor\n",
    "    d=1/u                                                          # decline factor as u*d=1\n",
    "    p = (np.exp(r * dt) - d) / (u - d)                              #probability \n",
    "    \n",
    "    #Calculating Asset prices tree\n",
    "    price_tree=np.zeros([N+1,N+1])\n",
    "    for i in range(N+1):\n",
    "        for j in range(i+1):\n",
    "            price_tree[j,i]=S0*(d**j)*(u**(i-j))\n",
    "            \n",
    "    #Calculating Option Prices Tree\n",
    "    option=np.zeros([N+1,N+1])\n",
    "    if put==False:\n",
    "        option[:,N]=np.maximum(np.zeros(N+1),price_tree[:,N]-k)\n",
    "    else:\n",
    "        option[:,N]=np.maximum(np.zeros(N+1),k-price_tree[:,N])\n",
    "    for i in range(N-1,-1,-1):\n",
    "        for j in range(0,i+1):\n",
    "            option[j,i]=np.exp(-r*dt)*(p*option[j,i+1] + (1-p)*option[j+1,i+1])\n",
    "    \n",
    "     # Final Value Option\n",
    "    return(option[0,0])"
   ]
  },
  {
   "cell_type": "code",
   "execution_count": null,
   "metadata": {},
   "outputs": [],
   "source": []
  },
  {
   "cell_type": "code",
   "execution_count": null,
   "metadata": {},
   "outputs": [],
   "source": []
  }
 ],
 "metadata": {
  "kernelspec": {
   "display_name": "Python 3",
   "language": "python",
   "name": "python3"
  },
  "language_info": {
   "codemirror_mode": {
    "name": "ipython",
    "version": 3
   },
   "file_extension": ".py",
   "mimetype": "text/x-python",
   "name": "python",
   "nbconvert_exporter": "python",
   "pygments_lexer": "ipython3",
   "version": "3.7.6"
  }
 },
 "nbformat": 4,
 "nbformat_minor": 4
}
