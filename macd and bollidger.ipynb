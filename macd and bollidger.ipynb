{
 "cells": [
  {
   "cell_type": "code",
   "execution_count": 1,
   "metadata": {},
   "outputs": [
    {
     "name": "stderr",
     "output_type": "stream",
     "text": [
      "C:\\Users\\ishan\\anaconda3\\lib\\site-packages\\pandas_datareader\\compat\\__init__.py:9: FutureWarning: pandas.util.testing is deprecated. Use the functions in the public API at pandas.testing instead.\n",
      "  from pandas.util.testing import assert_frame_equal\n"
     ]
    }
   ],
   "source": [
    "import pandas as pd\n",
    "import numpy as np\n",
    "from pandas_datareader import data\n",
    "import requests\n",
    "from math import sqrt\n",
    "import matplotlib.pyplot as plt\n",
    "from talib import RSI\n",
    "%matplotlib inline\n",
    "from talib import RSI, BBANDS,ADX,OBV\n",
    "import talib as ta\n"
   ]
  },
  {
   "cell_type": "code",
   "execution_count": 2,
   "metadata": {},
   "outputs": [],
   "source": [
    "\n",
    "portfolio = 1000000  #initial investment\n",
    "tscost = 0.006      # considering this much transaction cost\n",
    "nstocks = 0\n",
    "\n",
    "stock_list = ['BHEL.NS','ITC.NS','LUPIN.NS','RELIANCE.NS','IBVENTURES.NS','HEG.NS','IOC.NS','BPCL.NS','CIPLA.NS','BAJFINANCE.NS','JSWSTEEL.NS','HDFCBANK.NS']  # forming a stock list\n",
    "for stock in stock_list:\n",
    "    nstocks+=1         "
   ]
  },
  {
   "cell_type": "code",
   "execution_count": 3,
   "metadata": {},
   "outputs": [],
   "source": [
    "def readData(ticker, n):\n",
    "    stocks.append(data.DataReader(ticker, 'yahoo',start='1/1/2015',end='1/1/2019'))   # collecting the data"
   ]
  },
  {
   "cell_type": "code",
   "execution_count": 4,
   "metadata": {},
   "outputs": [],
   "source": [
    "# getting the technical indicators\n",
    "i = 0\n",
    "stocks = []\n",
    "for ticker in stock_list:\n",
    "    readData(ticker,i)\n",
    "    stocks[i]=stocks[i].dropna()\n",
    "    close =  stocks[i]['Adj Close'].values\n",
    "    volume=stocks[i]['Volume'].values\n",
    "    stocks[i]['ema_12']    =  stocks[i]['Adj Close'].ewm(span=12).mean()\n",
    "    stocks[i]['ema_26']    =  stocks[i]['Adj Close'].ewm(span=26).mean()\n",
    "    stocks[i]['macd'] = stocks[i]['ema_12'] -stocks[i]['ema_26'] \n",
    "    stocks[i]['signal'] = stocks[i]['macd'].ewm(span=9).mean()\n",
    "    stocks[i]['position']=0\n",
    "    rsi = RSI(close, timeperiod=14)\n",
    "    stocks[i]['RSI']=rsi\n",
    "    up, mid, low = BBANDS(close, timeperiod=20, nbdevup=2, nbdevdn=2, matype=0)\n",
    "    stocks[i]['Bollinger High']=up\n",
    "    \n",
    "    stocks[i]['Bollinger Low']=low\n",
    "    stocks[i]['Bollinger Mid']=mid\n",
    "    high= stocks[i]['High']\n",
    "    low= stocks[i]['Low']\n",
    "    stocks[i]['ADX']=ADX(high,low,close,timeperiod=14)\n",
    "    stocks[i]['OBV']= OBV(close, volume)\n",
    "    stocks[i]['MFI']= ta.MFI(high, low, close, volume, timeperiod=14)\n",
    "    \n",
    "\n",
    "    \n",
    "\n",
    "    i=i+1"
   ]
  },
  {
   "cell_type": "code",
   "execution_count": 5,
   "metadata": {},
   "outputs": [],
   "source": [
    "#Using macd and and bolidger bands\n",
    "# not  considering shorting\n",
    "def Strategy(df1):\n",
    "  \n",
    " \n",
    "    for row in range(len(df1)):\n",
    "        if(df1['position'].iloc[row-1]==0):\n",
    "            if(df1['macd'].iloc[row-1] < df1['signal'].iloc[row-1]) and (df1['macd'].iloc[row] > df1['signal'].iloc[row]) :\n",
    "                df1['position'].iloc[row] = 1\n",
    "            else:\n",
    "                df1['position'].iloc[row] = 0\n",
    "            \n",
    "            \n",
    "        elif (df1['position'].iloc[row-1]==1):\n",
    "            if ( df1['Adj Close'].iloc[row] <df1['Bollinger Low'].iloc[row] ) or(df1['macd'].iloc[row] < df1['signal'].iloc[row] and  df1['Adj Close'].iloc[row] > df1['Bollinger High'].iloc[row]  ):\n",
    "                df1['position'].iloc[row] = 0\n",
    "            else:\n",
    "                df1['position'].iloc[row] = 1\n",
    "    \n",
    "        "
   ]
  },
  {
   "cell_type": "code",
   "execution_count": 6,
   "metadata": {},
   "outputs": [
    {
     "name": "stderr",
     "output_type": "stream",
     "text": [
      "C:\\Users\\ishan\\anaconda3\\lib\\site-packages\\pandas\\core\\indexing.py:670: SettingWithCopyWarning: \n",
      "A value is trying to be set on a copy of a slice from a DataFrame\n",
      "\n",
      "See the caveats in the documentation: https://pandas.pydata.org/pandas-docs/stable/user_guide/indexing.html#returning-a-view-versus-a-copy\n",
      "  self._setitem_with_indexer(indexer, value)\n"
     ]
    }
   ],
   "source": [
    "# getting positions for each stock for each day\n",
    "i=0\n",
    "for ticker in stock_list:\n",
    "  \n",
    "    Strategy(stocks[i])\n",
    "    \n",
    "  \n",
    "    i=i+1"
   ]
  },
  {
   "cell_type": "code",
   "execution_count": 7,
   "metadata": {},
   "outputs": [],
   "source": [
    "  s = (len(stocks[0]),nstocks) \n",
    "weights = np.zeros(s)      "
   ]
  },
  {
   "cell_type": "code",
   "execution_count": 8,
   "metadata": {},
   "outputs": [],
   "source": [
    "######## Calculate returns\n",
    "# Divinding the investment equaly between stocks with a buy position everyday\n",
    "i = 0\n",
    "stocks[0]['portfolio']=0\n",
    "s = (len(stocks[0]),nstocks) \n",
    "weights = np.zeros(s)  \n",
    "stocks[0]['portfolio'].iloc[0]=1000000\n",
    "\n",
    "for i in range(nstocks):\n",
    "    stocks[i]['Market Return'] = (stocks[i]['Adj Close'] - stocks[i]['Adj Close'].shift(1)) #Absolute market return\n",
    "    \n",
    "stocks[0]['Strategy Return']=0\n",
    "for row in range(len(stocks[0])-1):\n",
    "    i = 0\n",
    "    \n",
    "    sumwts = 0\n",
    "    for i in range(nstocks):\n",
    "        sumwts+=np.abs(stocks[i]['position'].iloc[row])\n",
    "    for i in range(nstocks):\n",
    "        if sumwts>0:\n",
    "            weights[row][i]=( stocks[0]['portfolio'].iloc[row]*stocks[i]['position'].iloc[row])/((sumwts*stocks[i]['Adj Close'].iloc[row])*(1+tscost))\n",
    "        else:\n",
    "            weights[row][i]=0\n",
    "        stocks[0]['Strategy Return'].iloc[row+1]+=stocks[i]['Market Return'].iloc[row+1] * weights[row][i]    \n",
    "   \n",
    "    stocks[0]['portfolio'].iloc[row+1]=stocks[0]['portfolio'].iloc[row]+stocks[0]['Strategy Return'].iloc[row+1]"
   ]
  },
  {
   "cell_type": "code",
   "execution_count": 9,
   "metadata": {},
   "outputs": [
    {
     "data": {
      "text/plain": [
       "<matplotlib.axes._subplots.AxesSubplot at 0x206c4947b48>"
      ]
     },
     "execution_count": 9,
     "metadata": {},
     "output_type": "execute_result"
    },
    {
     "data": {
      "image/png": "[encoded data removed]",
      "text/plain": [
       "<Figure size 432x288 with 1 Axes>"
      ]
     },
     "metadata": {
      "needs_background": "light"
     },
     "output_type": "display_data"
    }
   ],
   "source": [
    "stocks[0]['Strategy Return'].cumsum().plot()"
   ]
  },
  {
   "cell_type": "code",
   "execution_count": 10,
   "metadata": {},
   "outputs": [
    {
     "data": {
      "text/plain": [
       "225.41516836049755"
      ]
     },
     "execution_count": 10,
     "metadata": {},
     "output_type": "execute_result"
    }
   ],
   "source": [
    "# percentage profits\n",
    "((stocks[0]['portfolio'][-1]/stocks[0]['portfolio'][0])-1)*100"
   ]
  },
  {
   "cell_type": "code",
   "execution_count": null,
   "metadata": {},
   "outputs": [],
   "source": []
  },
  {
   "cell_type": "code",
   "execution_count": 11,
   "metadata": {},
   "outputs": [
    {
     "data": {
      "text/plain": [
       "0.3515595360391248"
      ]
     },
     "execution_count": 11,
     "metadata": {},
     "output_type": "execute_result"
    }
   ],
   "source": [
    "#cagr\n",
    "stocks[0]['pct Strategy Return']=stocks[0]['portfolio'].pct_change()\n",
    "n=len(stocks[0])/252\n",
    "cagr=((((1+stocks[0]['pct Strategy Return']).cumprod()[-1])**(1/n))-1)\n",
    "cagr"
   ]
  },
  {
   "cell_type": "code",
   "execution_count": 12,
   "metadata": {},
   "outputs": [
    {
     "data": {
      "text/plain": [
       "0.18338789361320545"
      ]
     },
     "execution_count": 12,
     "metadata": {},
     "output_type": "execute_result"
    }
   ],
   "source": [
    "#  yearly volatilty\n",
    "volatilaty=stocks[0]['pct Strategy Return'].std()*(252**0.5)\n",
    "volatilaty"
   ]
  },
  {
   "cell_type": "code",
   "execution_count": 13,
   "metadata": {},
   "outputs": [
    {
     "data": {
      "text/plain": [
       "1.644380826332857"
      ]
     },
     "execution_count": 13,
     "metadata": {},
     "output_type": "execute_result"
    }
   ],
   "source": [
    "#sharpe\n",
    "sharpe=(cagr-(0.05))/(volatilaty)\n",
    "sharpe\n",
    "\n"
   ]
  },
  {
   "cell_type": "code",
   "execution_count": 14,
   "metadata": {
    "scrolled": true
   },
   "outputs": [
    {
     "data": {
      "text/plain": [
       "2.16718275696062"
      ]
     },
     "execution_count": 14,
     "metadata": {},
     "output_type": "execute_result"
    }
   ],
   "source": [
    "#sortino\n",
    "neg_volatilaty=stocks[0]['pct Strategy Return'][stocks[0]['pct Strategy Return']<0].std()*(252**0.5)\n",
    "sortino=(cagr-(0.05))/(neg_volatilaty)\n",
    "sortino"
   ]
  },
  {
   "cell_type": "code",
   "execution_count": null,
   "metadata": {},
   "outputs": [],
   "source": []
  },
  {
   "cell_type": "code",
   "execution_count": 15,
   "metadata": {},
   "outputs": [],
   "source": [
    "import random"
   ]
  },
  {
   "cell_type": "code",
   "execution_count": null,
   "metadata": {},
   "outputs": [],
   "source": []
  },
  {
   "cell_type": "code",
   "execution_count": null,
   "metadata": {},
   "outputs": [],
   "source": []
  },
  {
   "cell_type": "code",
   "execution_count": null,
   "metadata": {},
   "outputs": [],
   "source": []
  },
  {
   "cell_type": "code",
   "execution_count": null,
   "metadata": {},
   "outputs": [],
   "source": []
  }
 ],
 "metadata": {
  "kernelspec": {
   "display_name": "Python 3",
   "language": "python",
   "name": "python3"
  },
  "language_info": {
   "codemirror_mode": {
    "name": "ipython",
    "version": 3
   },
   "file_extension": ".py",
   "mimetype": "text/x-python",
   "name": "python",
   "nbconvert_exporter": "python",
   "pygments_lexer": "ipython3",
   "version": "3.7.6"
  }
 },
 "nbformat": 4,
 "nbformat_minor": 4
}
