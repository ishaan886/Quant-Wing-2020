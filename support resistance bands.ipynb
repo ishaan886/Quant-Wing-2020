{
 "cells": [
  {
   "cell_type": "code",
   "execution_count": 1,
   "metadata": {},
   "outputs": [
    {
     "name": "stderr",
     "output_type": "stream",
     "text": [
      "C:\\Users\\ishan\\anaconda3\\lib\\site-packages\\pandas_datareader\\compat\\__init__.py:9: FutureWarning: pandas.util.testing is deprecated. Use the functions in the public API at pandas.testing instead.\n",
      "  from pandas.util.testing import assert_frame_equal\n"
     ]
    }
   ],
   "source": [
    "import pandas as pd\n",
    "import numpy as np\n",
    "from pandas_datareader import data\n",
    "import requests\n",
    "from math import sqrt\n",
    "import matplotlib.pyplot as plt\n",
    "\n",
    "%matplotlib inline\n",
    "from talib import  BBANDS\n"
   ]
  },
  {
   "cell_type": "code",
   "execution_count": 2,
   "metadata": {},
   "outputs": [],
   "source": [
    "def last_month(date):\n",
    "    \n",
    "    if(date.month==1):\n",
    "        year=date.year-1\n",
    "        month=12\n",
    "        \n",
    "    else:\n",
    "        year=date.year\n",
    "        month=date.month-1\n",
    "    \n",
    "         \n",
    "    x='{}-{}'.format(year,month)\n",
    "    return(x)\n"
   ]
  },
  {
   "cell_type": "code",
   "execution_count": 62,
   "metadata": {},
   "outputs": [],
   "source": [
    "### code resistance and support levels\n",
    "def st_mon(DF):\n",
    "    \n",
    "    d= DF.index[0]\n",
    "    d=d.replace(month=d.month+1)\n",
    "    df=pd.DataFrame(index=DF.loc[d:].index)  \n",
    "    df['Adj Close']=DF['Adj Close']\n",
    "    for i in range(len(df)):\n",
    "        date=df.index[i]\n",
    "        x=last_month(date)\n",
    "        high=DF[x]['High'].max()\n",
    "        low=DF[x]['Low'].min()\n",
    "        close=DF[x]['Adj Close'].iloc[-1]\n",
    "        diff=high-low\n",
    "        p=(high +low+ close)/3\n",
    "        df.loc[df.index[i],'r1'] = 2*p - low\n",
    "        df.loc[df.index[i],'s1'] = 2*p-high\n",
    "        df.loc[df.index[i],'r2']  = p + diff\n",
    "        df.loc[df.index[i],'s2'] = p- diff\n",
    "        df.loc[df.index[i],'r3'] = high + 2 * (p-low)\n",
    "        df.loc[df.index[i],'s3'] = low - 2 * (high-p)\n",
    "        df.loc[df.index[i],'p']=p\n",
    "\n",
    "    return(df)\n"
   ]
  },
  {
   "cell_type": "code",
   "execution_count": 63,
   "metadata": {},
   "outputs": [],
   "source": [
    "# Initailising stock list and portfolio value and transaction cost\n",
    "portfolio = 1000000\n",
    "tscost = 0.005 \n",
    "nstocks = 0\n",
    "\n",
    "stock_list = ['BHEL.NS','ITC.NS','LUPIN.NS','RELIANCE.NS','IBVENTURES.NS','HEG.NS','IOC.NS','BPCL.NS','CIPLA.NS','BAJFINANCE.NS','JSWSTEEL.NS','HDFCBANK.NS']\n",
    "for stock in stock_list:\n",
    "    nstocks+=1     "
   ]
  },
  {
   "cell_type": "code",
   "execution_count": null,
   "metadata": {},
   "outputs": [],
   "source": []
  },
  {
   "cell_type": "code",
   "execution_count": 64,
   "metadata": {},
   "outputs": [],
   "source": [
    "## Get data \n",
    "\n",
    "def readData(ticker, n):\n",
    "    stocks.append(data.DataReader(ticker, 'yahoo',start='1/1/2010',end='1/1/2019'))\n",
    "i = 0\n",
    "stocks = []\n",
    "for ticker in stock_list:\n",
    "    DF=data.DataReader(ticker, 'yahoo',start='1/1/2015',end='1/1/2019')\n",
    "    stocks.append(st_mon(DF))\n",
    "    stocks[i]=stocks[i].dropna()\n",
    "    i=i+1\n",
    " "
   ]
  },
  {
   "cell_type": "code",
   "execution_count": 65,
   "metadata": {},
   "outputs": [
    {
     "data": {
      "text/html": [
       "<div>\n",
       "<style scoped>\n",
       "    .dataframe tbody tr th:only-of-type {\n",
       "        vertical-align: middle;\n",
       "    }\n",
       "\n",
       "    .dataframe tbody tr th {\n",
       "        vertical-align: top;\n",
       "    }\n",
       "\n",
       "    .dataframe thead th {\n",
       "        text-align: right;\n",
       "    }\n",
       "</style>\n",
       "<table border=\"1\" class=\"dataframe\">\n",
       "  <thead>\n",
       "    <tr style=\"text-align: right;\">\n",
       "      <th></th>\n",
       "      <th>Adj Close</th>\n",
       "      <th>r1</th>\n",
       "      <th>s1</th>\n",
       "      <th>r2</th>\n",
       "      <th>s2</th>\n",
       "      <th>r3</th>\n",
       "      <th>s3</th>\n",
       "      <th>p</th>\n",
       "    </tr>\n",
       "    <tr>\n",
       "      <th>Date</th>\n",
       "      <th></th>\n",
       "      <th></th>\n",
       "      <th></th>\n",
       "      <th></th>\n",
       "      <th></th>\n",
       "      <th></th>\n",
       "      <th></th>\n",
       "      <th></th>\n",
       "    </tr>\n",
       "  </thead>\n",
       "  <tbody>\n",
       "    <tr>\n",
       "      <th>2015-02-02</th>\n",
       "      <td>175.360352</td>\n",
       "      <td>192.871109</td>\n",
       "      <td>161.005112</td>\n",
       "      <td>211.635056</td>\n",
       "      <td>147.903061</td>\n",
       "      <td>224.737106</td>\n",
       "      <td>129.139114</td>\n",
       "      <td>179.769058</td>\n",
       "    </tr>\n",
       "    <tr>\n",
       "      <th>2015-02-03</th>\n",
       "      <td>177.300171</td>\n",
       "      <td>192.871109</td>\n",
       "      <td>161.005112</td>\n",
       "      <td>211.635056</td>\n",
       "      <td>147.903061</td>\n",
       "      <td>224.737106</td>\n",
       "      <td>129.139114</td>\n",
       "      <td>179.769058</td>\n",
       "    </tr>\n",
       "    <tr>\n",
       "      <th>2015-02-04</th>\n",
       "      <td>170.078979</td>\n",
       "      <td>192.871109</td>\n",
       "      <td>161.005112</td>\n",
       "      <td>211.635056</td>\n",
       "      <td>147.903061</td>\n",
       "      <td>224.737106</td>\n",
       "      <td>129.139114</td>\n",
       "      <td>179.769058</td>\n",
       "    </tr>\n",
       "    <tr>\n",
       "      <th>2015-02-05</th>\n",
       "      <td>165.215622</td>\n",
       "      <td>192.871109</td>\n",
       "      <td>161.005112</td>\n",
       "      <td>211.635056</td>\n",
       "      <td>147.903061</td>\n",
       "      <td>224.737106</td>\n",
       "      <td>129.139114</td>\n",
       "      <td>179.769058</td>\n",
       "    </tr>\n",
       "    <tr>\n",
       "      <th>2015-02-06</th>\n",
       "      <td>157.636368</td>\n",
       "      <td>192.871109</td>\n",
       "      <td>161.005112</td>\n",
       "      <td>211.635056</td>\n",
       "      <td>147.903061</td>\n",
       "      <td>224.737106</td>\n",
       "      <td>129.139114</td>\n",
       "      <td>179.769058</td>\n",
       "    </tr>\n",
       "    <tr>\n",
       "      <th>...</th>\n",
       "      <td>...</td>\n",
       "      <td>...</td>\n",
       "      <td>...</td>\n",
       "      <td>...</td>\n",
       "      <td>...</td>\n",
       "      <td>...</td>\n",
       "      <td>...</td>\n",
       "      <td>...</td>\n",
       "    </tr>\n",
       "    <tr>\n",
       "      <th>2018-12-26</th>\n",
       "      <td>67.395103</td>\n",
       "      <td>70.395027</td>\n",
       "      <td>61.545029</td>\n",
       "      <td>76.597511</td>\n",
       "      <td>58.897514</td>\n",
       "      <td>79.245026</td>\n",
       "      <td>52.695030</td>\n",
       "      <td>67.747513</td>\n",
       "    </tr>\n",
       "    <tr>\n",
       "      <th>2018-12-27</th>\n",
       "      <td>65.935104</td>\n",
       "      <td>70.395027</td>\n",
       "      <td>61.545029</td>\n",
       "      <td>76.597511</td>\n",
       "      <td>58.897514</td>\n",
       "      <td>79.245026</td>\n",
       "      <td>52.695030</td>\n",
       "      <td>67.747513</td>\n",
       "    </tr>\n",
       "    <tr>\n",
       "      <th>2018-12-28</th>\n",
       "      <td>67.866066</td>\n",
       "      <td>70.395027</td>\n",
       "      <td>61.545029</td>\n",
       "      <td>76.597511</td>\n",
       "      <td>58.897514</td>\n",
       "      <td>79.245026</td>\n",
       "      <td>52.695030</td>\n",
       "      <td>67.747513</td>\n",
       "    </tr>\n",
       "    <tr>\n",
       "      <th>2018-12-31</th>\n",
       "      <td>68.855087</td>\n",
       "      <td>70.395027</td>\n",
       "      <td>61.545029</td>\n",
       "      <td>76.597511</td>\n",
       "      <td>58.897514</td>\n",
       "      <td>79.245026</td>\n",
       "      <td>52.695030</td>\n",
       "      <td>67.747513</td>\n",
       "    </tr>\n",
       "    <tr>\n",
       "      <th>2019-01-01</th>\n",
       "      <td>69.514442</td>\n",
       "      <td>74.336725</td>\n",
       "      <td>62.536725</td>\n",
       "      <td>79.818362</td>\n",
       "      <td>56.218363</td>\n",
       "      <td>86.136724</td>\n",
       "      <td>50.736726</td>\n",
       "      <td>68.018363</td>\n",
       "    </tr>\n",
       "  </tbody>\n",
       "</table>\n",
       "<p>966 rows × 8 columns</p>\n",
       "</div>"
      ],
      "text/plain": [
       "             Adj Close          r1          s1          r2          s2  \\\n",
       "Date                                                                     \n",
       "2015-02-02  175.360352  192.871109  161.005112  211.635056  147.903061   \n",
       "2015-02-03  177.300171  192.871109  161.005112  211.635056  147.903061   \n",
       "2015-02-04  170.078979  192.871109  161.005112  211.635056  147.903061   \n",
       "2015-02-05  165.215622  192.871109  161.005112  211.635056  147.903061   \n",
       "2015-02-06  157.636368  192.871109  161.005112  211.635056  147.903061   \n",
       "...                ...         ...         ...         ...         ...   \n",
       "2018-12-26   67.395103   70.395027   61.545029   76.597511   58.897514   \n",
       "2018-12-27   65.935104   70.395027   61.545029   76.597511   58.897514   \n",
       "2018-12-28   67.866066   70.395027   61.545029   76.597511   58.897514   \n",
       "2018-12-31   68.855087   70.395027   61.545029   76.597511   58.897514   \n",
       "2019-01-01   69.514442   74.336725   62.536725   79.818362   56.218363   \n",
       "\n",
       "                    r3          s3           p  \n",
       "Date                                            \n",
       "2015-02-02  224.737106  129.139114  179.769058  \n",
       "2015-02-03  224.737106  129.139114  179.769058  \n",
       "2015-02-04  224.737106  129.139114  179.769058  \n",
       "2015-02-05  224.737106  129.139114  179.769058  \n",
       "2015-02-06  224.737106  129.139114  179.769058  \n",
       "...                ...         ...         ...  \n",
       "2018-12-26   79.245026   52.695030   67.747513  \n",
       "2018-12-27   79.245026   52.695030   67.747513  \n",
       "2018-12-28   79.245026   52.695030   67.747513  \n",
       "2018-12-31   79.245026   52.695030   67.747513  \n",
       "2019-01-01   86.136724   50.736726   68.018363  \n",
       "\n",
       "[966 rows x 8 columns]"
      ]
     },
     "execution_count": 65,
     "metadata": {},
     "output_type": "execute_result"
    }
   ],
   "source": [
    "stocks[0]"
   ]
  },
  {
   "cell_type": "code",
   "execution_count": 66,
   "metadata": {},
   "outputs": [],
   "source": [
    "##### Strategy\n",
    "  # Buy - when close price crosses support and moves in the upward direction\n",
    "  #  sell- when close price crosses resistance and moves in the downward direction\n",
    "   # no shorting "
   ]
  },
  {
   "cell_type": "code",
   "execution_count": 71,
   "metadata": {},
   "outputs": [],
   "source": [
    "\n",
    "def Strategy(df1):\n",
    "  \n",
    " \n",
    "    for row in range(len(df1)):\n",
    "        if(df1['position'].iloc[row-1]==0):\n",
    "                if ((df1['Adj Close'].iloc[row-1] <= df1['s1'].iloc[row-1]) and (df1['Adj Close'].iloc[row] > df1['s1'].iloc[row])) or ((df1['Adj Close'].iloc[row-1] <= df1['s2'].iloc[row-1]) and (df1['Adj Close'].iloc[row] > df1['s2'].iloc[row])) or ((df1['Adj Close'].iloc[row-1] <= df1['s3'].iloc[row-1]) and (df1['Adj Close'].iloc[row] > df1['s3'].iloc[row]))   :\n",
    "                    df1['position'].iloc[row] = 1\n",
    "\n",
    "                else:\n",
    "                    df1['position'].iloc[row] = 0\n",
    "\n",
    "            \n",
    "        elif (df1['position'].iloc[row-1]==1):\n",
    "            if ((df1['Adj Close'].iloc[row-1] >= df1['r1'].iloc[row-1]) and (df1['Adj Close'].iloc[row] < df1['r1'].iloc[row])) or ((df1['Adj Close'].iloc[row-1] >= df1['r2'].iloc[row-1]) and (df1['Adj Close'].iloc[row] < df1['r2'].iloc[row])) or ((df1['Adj Close'].iloc[row-1] >= df1['r3'].iloc[row-1]) and (df1['Adj Close'].iloc[row] < df1['r3'].iloc[row]))   :\n",
    "                    df1['position'].iloc[row] = 0\n",
    "            else:\n",
    "                 df1['position'].iloc[row] = 1\n",
    "\n",
    "      "
   ]
  },
  {
   "cell_type": "code",
   "execution_count": 72,
   "metadata": {},
   "outputs": [
    {
     "name": "stderr",
     "output_type": "stream",
     "text": [
      "C:\\Users\\ishan\\anaconda3\\lib\\site-packages\\pandas\\core\\indexing.py:670: SettingWithCopyWarning: \n",
      "A value is trying to be set on a copy of a slice from a DataFrame\n",
      "\n",
      "See the caveats in the documentation: https://pandas.pydata.org/pandas-docs/stable/user_guide/indexing.html#returning-a-view-versus-a-copy\n",
      "  self._setitem_with_indexer(indexer, value)\n"
     ]
    }
   ],
   "source": [
    "##Exexute Strategy\n",
    "\n",
    "i=0\n",
    "for ticker in stock_list:\n",
    "    stocks[i]['position']=0\n",
    "  \n",
    "    Strategy(stocks[i])\n",
    "    \n",
    "  \n",
    "    i=i+1"
   ]
  },
  {
   "cell_type": "code",
   "execution_count": 73,
   "metadata": {},
   "outputs": [],
   "source": [
    "## calculate returns\n",
    "i = 0\n",
    "stocks[0]['portfolio']=0\n",
    "s = (len(stocks[0]),nstocks) \n",
    "weights = np.zeros(s)  \n",
    "stocks[0]['portfolio'].iloc[0]=1000000\n",
    "\n",
    "for i in range(nstocks):\n",
    "    stocks[i]['Market Return'] = (stocks[i]['Adj Close'] - stocks[i]['Adj Close'].shift(1)) #Absolute market return\n",
    "    \n",
    "stocks[0]['Strategy Return']=0\n",
    "for row in range(len(stocks[0])-1):\n",
    "    i = 0\n",
    "    x=0\n",
    "    sumwts = 0\n",
    "    for i in range(nstocks):\n",
    "        sumwts+=np.abs(stocks[i]['position'].iloc[row])\n",
    "    for i in range(nstocks):\n",
    "        if sumwts>0:\n",
    "            weights[row][i]=( stocks[0]['portfolio'].iloc[row]*stocks[i]['position'].iloc[row])/((sumwts*stocks[i]['Adj Close'].iloc[row])*(1+tscost))\n",
    "            stocks[0]['Strategy Return'].iloc[row+1]+=stocks[i]['Market Return'].iloc[row+1] * weights[row][i]\n",
    "           \n",
    "        else:\n",
    "            weights[row][i]=0\n",
    "    \n",
    "   \n",
    "    stocks[0]['portfolio'].iloc[row+1]=stocks[0]['portfolio'].iloc[row]+stocks[0]['Strategy Return'].iloc[row+1]"
   ]
  },
  {
   "cell_type": "code",
   "execution_count": 75,
   "metadata": {},
   "outputs": [
    {
     "data": {
      "text/plain": [
       "<matplotlib.axes._subplots.AxesSubplot at 0x2681b4a1608>"
      ]
     },
     "execution_count": 75,
     "metadata": {},
     "output_type": "execute_result"
    },
    {
     "data": {
      "image/png": "[encoded data removed]",
      "text/plain": [
       "<Figure size 432x288 with 1 Axes>"
      ]
     },
     "metadata": {
      "needs_background": "light"
     },
     "output_type": "display_data"
    }
   ],
   "source": [
    "\n",
    "stocks[0]['Strategy Return'].cumsum().plot() "
   ]
  },
  {
   "cell_type": "code",
   "execution_count": 76,
   "metadata": {},
   "outputs": [
    {
     "data": {
      "text/plain": [
       "2286659.5875426633"
      ]
     },
     "execution_count": 76,
     "metadata": {},
     "output_type": "execute_result"
    }
   ],
   "source": [
    "stocks[0]['portfolio'][-1]"
   ]
  },
  {
   "cell_type": "code",
   "execution_count": null,
   "metadata": {},
   "outputs": [],
   "source": []
  },
  {
   "cell_type": "code",
   "execution_count": null,
   "metadata": {},
   "outputs": [],
   "source": []
  },
  {
   "cell_type": "code",
   "execution_count": 77,
   "metadata": {},
   "outputs": [
    {
     "data": {
      "text/plain": [
       "0.2408084529617447"
      ]
     },
     "execution_count": 77,
     "metadata": {},
     "output_type": "execute_result"
    }
   ],
   "source": [
    "#cagr\n",
    "stocks[0]['pct Strategy Return']=stocks[0]['portfolio'].pct_change()\n",
    "n=len(stocks[0])/252\n",
    "cagr=((((1+stocks[0]['pct Strategy Return']).cumprod()[-1])**(1/n))-1)\n",
    "cagr"
   ]
  },
  {
   "cell_type": "code",
   "execution_count": 78,
   "metadata": {},
   "outputs": [
    {
     "data": {
      "text/plain": [
       "0.19142790501835216"
      ]
     },
     "execution_count": 78,
     "metadata": {},
     "output_type": "execute_result"
    }
   ],
   "source": [
    "#  yearly volatilty\n",
    "volatilaty=stocks[0]['pct Strategy Return'].std()*(252**0.5)\n",
    "volatilaty"
   ]
  },
  {
   "cell_type": "code",
   "execution_count": 79,
   "metadata": {},
   "outputs": [
    {
     "data": {
      "text/plain": [
       "0.9967640451555478"
      ]
     },
     "execution_count": 79,
     "metadata": {},
     "output_type": "execute_result"
    }
   ],
   "source": [
    "#sharpe\n",
    "sharpe=(cagr-(0.05))/(volatilaty)\n",
    "sharpe\n"
   ]
  },
  {
   "cell_type": "code",
   "execution_count": 80,
   "metadata": {},
   "outputs": [
    {
     "data": {
      "text/plain": [
       "1.368925648903038"
      ]
     },
     "execution_count": 80,
     "metadata": {},
     "output_type": "execute_result"
    }
   ],
   "source": [
    "#sortino\n",
    "neg_volatilaty=stocks[0]['pct Strategy Return'][stocks[0]['pct Strategy Return']<0].std()*(252**0.5)\n",
    "sortino=(cagr-(0.05))/(neg_volatilaty)\n",
    "sortino"
   ]
  },
  {
   "cell_type": "code",
   "execution_count": null,
   "metadata": {},
   "outputs": [],
   "source": []
  },
  {
   "cell_type": "code",
   "execution_count": null,
   "metadata": {},
   "outputs": [],
   "source": []
  },
  {
   "cell_type": "code",
   "execution_count": null,
   "metadata": {},
   "outputs": [],
   "source": []
  },
  {
   "cell_type": "code",
   "execution_count": null,
   "metadata": {},
   "outputs": [],
   "source": []
  },
  {
   "cell_type": "code",
   "execution_count": null,
   "metadata": {},
   "outputs": [],
   "source": []
  }
 ],
 "metadata": {
  "kernelspec": {
   "display_name": "Python 3",
   "language": "python",
   "name": "python3"
  },
  "language_info": {
   "codemirror_mode": {
    "name": "ipython",
    "version": 3
   },
   "file_extension": ".py",
   "mimetype": "text/x-python",
   "name": "python",
   "nbconvert_exporter": "python",
   "pygments_lexer": "ipython3",
   "version": "3.7.6"
  }
 },
 "nbformat": 4,
 "nbformat_minor": 4
}
